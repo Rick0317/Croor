{
 "cells": [
  {
   "cell_type": "code",
   "id": "initial_id",
   "metadata": {
    "collapsed": true,
    "ExecuteTime": {
     "end_time": "2024-11-06T02:52:18.195286Z",
     "start_time": "2024-11-06T02:52:17.955473Z"
    }
   },
   "source": [
    "import pyscf\n",
    "from pathlib import Path \n",
    "from pyscf import gto, scf\n",
    "from pyblock2._pyscf.ao2mo import integrals as itg\n",
    "import pyscf\n",
    "mol = gto.M(atom=\"H 0 0 0; H 0 0 1; H 0 0 2; H 0 0 3\", basis=\"sto3g\", verbose=0)\n",
    "mf = scf.RHF(mol).run(conv_tol=1E-14)\n",
    "ncas, n_elec, spin, ecore, h1e, g2e, orb_sym = itg.get_rhf_integrals(mf,\n",
    "    ncore=0, ncas=None, g2e_symm=8)\n",
    "print(f\"n Cas: {ncas}\")\n",
    "print(f\"orb sym: {orb_sym}\")\n",
    "\n",
    "### We use the chemist notation of TBT ###\n",
    "\n",
    "label = \"_original\"\n",
    "filename = \"fcidump.H4\" + f\"{label}\"\n",
    "pyscf.tools.fcidump.from_integrals(\n",
    "    \"data\"/Path(filename),\n",
    "    h1e,\n",
    "    g2e,\n",
    "    nmo=h1e.shape[0],\n",
    "    nelec=n_elec,\n",
    "    nuc=ecore,\n",
    "    ms=spin,\n",
    "    orbsym=None,\n",
    "    tol=1E-8,\n",
    "    float_format=' %.16g',\n",
    ")"
   ],
   "outputs": [
    {
     "name": "stdout",
     "output_type": "stream",
     "text": [
      "n Cas: 4\n",
      "orb sym: [0, 0, 0, 0]\n"
     ]
    }
   ],
   "execution_count": 2
  },
  {
   "metadata": {
    "ExecuteTime": {
     "end_time": "2024-11-06T03:25:47.042547Z",
     "start_time": "2024-11-06T03:25:46.967011Z"
    }
   },
   "cell_type": "code",
   "source": "print(n_elec)",
   "id": "4ab5b6d27edaaee6",
   "outputs": [
    {
     "name": "stdout",
     "output_type": "stream",
     "text": [
      "4\n"
     ]
    }
   ],
   "execution_count": 3
  },
  {
   "metadata": {},
   "cell_type": "code",
   "outputs": [],
   "execution_count": null,
   "source": "",
   "id": "4778c84b8dbeaf1b"
  }
 ],
 "metadata": {
  "kernelspec": {
   "display_name": "Python 3",
   "language": "python",
   "name": "python3"
  },
  "language_info": {
   "codemirror_mode": {
    "name": "ipython",
    "version": 2
   },
   "file_extension": ".py",
   "mimetype": "text/x-python",
   "name": "python",
   "nbconvert_exporter": "python",
   "pygments_lexer": "ipython2",
   "version": "2.7.6"
  }
 },
 "nbformat": 4,
 "nbformat_minor": 5
}
