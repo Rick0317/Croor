{
 "cells": [
  {
   "cell_type": "code",
   "id": "initial_id",
   "metadata": {
    "collapsed": true,
    "ExecuteTime": {
     "end_time": "2024-07-31T19:22:02.995385Z",
     "start_time": "2024-07-31T19:22:02.833647Z"
    }
   },
   "source": "import numpy as np",
   "outputs": [],
   "execution_count": 1
  },
  {
   "metadata": {
    "ExecuteTime": {
     "end_time": "2024-07-31T19:22:04.808714Z",
     "start_time": "2024-07-31T19:22:04.802022Z"
    }
   },
   "cell_type": "code",
   "source": "matrix = np.array([[2, -1, -1, 0], [-1, 2, -1, 0], [-1, -1, 3, 0], [0, 0, -1, 1]])",
   "id": "e492bc55a75a3cc2",
   "outputs": [],
   "execution_count": 2
  },
  {
   "metadata": {
    "ExecuteTime": {
     "end_time": "2024-07-31T19:22:34.994005Z",
     "start_time": "2024-07-31T19:22:34.985036Z"
    }
   },
   "cell_type": "code",
   "source": "eigs, eigvs =  np.linalg.eigh(matrix)",
   "id": "e92d6d8671efe4b7",
   "outputs": [],
   "execution_count": 3
  },
  {
   "metadata": {
    "ExecuteTime": {
     "end_time": "2024-07-31T19:22:46.776720Z",
     "start_time": "2024-07-31T19:22:46.761767Z"
    }
   },
   "cell_type": "code",
   "source": "print(eigvs[:, 2])",
   "id": "7753a474ac77cfca",
   "outputs": [
    {
     "name": "stdout",
     "output_type": "stream",
     "text": [
      "[ 7.07106781e-01 -7.07106781e-01  1.06349375e-16 -2.11656375e-16]\n"
     ]
    }
   ],
   "execution_count": 5
  },
  {
   "metadata": {},
   "cell_type": "code",
   "outputs": [],
   "execution_count": null,
   "source": "",
   "id": "40b4b6cfdec9a387"
  }
 ],
 "metadata": {
  "kernelspec": {
   "display_name": "Python 3",
   "language": "python",
   "name": "python3"
  },
  "language_info": {
   "codemirror_mode": {
    "name": "ipython",
    "version": 2
   },
   "file_extension": ".py",
   "mimetype": "text/x-python",
   "name": "python",
   "nbconvert_exporter": "python",
   "pygments_lexer": "ipython2",
   "version": "2.7.6"
  }
 },
 "nbformat": 4,
 "nbformat_minor": 5
}
