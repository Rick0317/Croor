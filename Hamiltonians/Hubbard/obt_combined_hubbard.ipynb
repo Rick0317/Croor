{
 "cells": [
  {
   "cell_type": "code",
   "id": "initial_id",
   "metadata": {
    "collapsed": true,
    "ExecuteTime": {
     "end_time": "2024-08-16T16:06:40.393182Z",
     "start_time": "2024-08-16T16:06:39.580794Z"
    }
   },
   "source": [
    "import numpy as np\n",
    "from pyblock2._pyscf.ao2mo import integrals as itg\n",
    "from pyblock2.driver.core import DMRGDriver, SymmetryTypes\n",
    "from OrbitalRotation.tools.orbital_rotation_general import orbital_rotation_p_q, orbital_rotation_p_q_nf"
   ],
   "outputs": [],
   "execution_count": 1
  },
  {
   "metadata": {
    "ExecuteTime": {
     "end_time": "2024-08-16T16:07:14.809987Z",
     "start_time": "2024-08-16T16:07:14.793920Z"
    }
   },
   "cell_type": "code",
   "source": [
    "def combined_hubbard(t, U, ncas, n_elec):\n",
    "    tensor = np.zeros((ncas, ncas, ncas, ncas))\n",
    "    for i in range(ncas - 1):\n",
    "        for j in range(ncas):\n",
    "            tensor[i, i + 1, j, j] = - t / (2 * n_elec)\n",
    "            tensor[i + 1, i, j, j] = - t / (2 * n_elec)\n",
    "            tensor[j, j, i, i + 1] = - t / (2 * n_elec)\n",
    "            tensor[j, j, i + 1, i] = - t / (2 * n_elec)\n",
    "            tensor[i, i, j, j] = - U / (4 * n_elec)\n",
    "            tensor[j, j, i, i] = - U / (4 * n_elec)\n",
    "    \n",
    "    for i in range(ncas):\n",
    "        tensor[i, i, i, i] = U / 2\n",
    "    \n",
    "    return tensor"
   ],
   "id": "4f282e958b55f5b8",
   "outputs": [],
   "execution_count": 5
  },
  {
   "metadata": {
    "ExecuteTime": {
     "end_time": "2024-08-16T16:07:14.943871Z",
     "start_time": "2024-08-16T16:07:14.941212Z"
    }
   },
   "cell_type": "code",
   "source": [
    "t = 1\n",
    "U = 1\n",
    "ncas = 4\n",
    "n_elec = 4"
   ],
   "id": "44f18aded7387905",
   "outputs": [],
   "execution_count": 6
  },
  {
   "metadata": {
    "ExecuteTime": {
     "end_time": "2024-08-16T16:07:15.117060Z",
     "start_time": "2024-08-16T16:07:15.114405Z"
    }
   },
   "cell_type": "code",
   "source": "tbt = combined_hubbard(t, U, ncas, n_elec)",
   "id": "5c92545a965e4551",
   "outputs": [],
   "execution_count": 7
  },
  {
   "metadata": {
    "ExecuteTime": {
     "end_time": "2024-08-16T16:07:19.210235Z",
     "start_time": "2024-08-16T16:07:19.201387Z"
    }
   },
   "cell_type": "code",
   "source": "print(tbt)",
   "id": "783ab15ade758eae",
   "outputs": [
    {
     "name": "stdout",
     "output_type": "stream",
     "text": [
      "[[[[ 0.5    -0.125   0.      0.    ]\n",
      "   [-0.125  -0.0625 -0.125   0.    ]\n",
      "   [ 0.     -0.125  -0.0625 -0.125 ]\n",
      "   [ 0.      0.     -0.125  -0.0625]]\n",
      "\n",
      "  [[-0.125   0.      0.      0.    ]\n",
      "   [ 0.     -0.125   0.      0.    ]\n",
      "   [ 0.      0.     -0.125   0.    ]\n",
      "   [ 0.      0.      0.     -0.125 ]]\n",
      "\n",
      "  [[ 0.      0.      0.      0.    ]\n",
      "   [ 0.      0.      0.      0.    ]\n",
      "   [ 0.      0.      0.      0.    ]\n",
      "   [ 0.      0.      0.      0.    ]]\n",
      "\n",
      "  [[ 0.      0.      0.      0.    ]\n",
      "   [ 0.      0.      0.      0.    ]\n",
      "   [ 0.      0.      0.      0.    ]\n",
      "   [ 0.      0.      0.      0.    ]]]\n",
      "\n",
      "\n",
      " [[[-0.125   0.      0.      0.    ]\n",
      "   [ 0.     -0.125   0.      0.    ]\n",
      "   [ 0.      0.     -0.125   0.    ]\n",
      "   [ 0.      0.      0.     -0.125 ]]\n",
      "\n",
      "  [[-0.0625 -0.125   0.      0.    ]\n",
      "   [-0.125   0.5    -0.125   0.    ]\n",
      "   [ 0.     -0.125  -0.0625 -0.125 ]\n",
      "   [ 0.      0.     -0.125  -0.0625]]\n",
      "\n",
      "  [[-0.125   0.      0.      0.    ]\n",
      "   [ 0.     -0.125   0.      0.    ]\n",
      "   [ 0.      0.     -0.125   0.    ]\n",
      "   [ 0.      0.      0.     -0.125 ]]\n",
      "\n",
      "  [[ 0.      0.      0.      0.    ]\n",
      "   [ 0.      0.      0.      0.    ]\n",
      "   [ 0.      0.      0.      0.    ]\n",
      "   [ 0.      0.      0.      0.    ]]]\n",
      "\n",
      "\n",
      " [[[ 0.      0.      0.      0.    ]\n",
      "   [ 0.      0.      0.      0.    ]\n",
      "   [ 0.      0.      0.      0.    ]\n",
      "   [ 0.      0.      0.      0.    ]]\n",
      "\n",
      "  [[-0.125   0.      0.      0.    ]\n",
      "   [ 0.     -0.125   0.      0.    ]\n",
      "   [ 0.      0.     -0.125   0.    ]\n",
      "   [ 0.      0.      0.     -0.125 ]]\n",
      "\n",
      "  [[-0.0625 -0.125   0.      0.    ]\n",
      "   [-0.125  -0.0625 -0.125   0.    ]\n",
      "   [ 0.     -0.125   0.5    -0.125 ]\n",
      "   [ 0.      0.     -0.125  -0.0625]]\n",
      "\n",
      "  [[-0.125   0.      0.      0.    ]\n",
      "   [ 0.     -0.125   0.      0.    ]\n",
      "   [ 0.      0.     -0.125   0.    ]\n",
      "   [ 0.      0.      0.     -0.125 ]]]\n",
      "\n",
      "\n",
      " [[[ 0.      0.      0.      0.    ]\n",
      "   [ 0.      0.      0.      0.    ]\n",
      "   [ 0.      0.      0.      0.    ]\n",
      "   [ 0.      0.      0.      0.    ]]\n",
      "\n",
      "  [[ 0.      0.      0.      0.    ]\n",
      "   [ 0.      0.      0.      0.    ]\n",
      "   [ 0.      0.      0.      0.    ]\n",
      "   [ 0.      0.      0.      0.    ]]\n",
      "\n",
      "  [[-0.125   0.      0.      0.    ]\n",
      "   [ 0.     -0.125   0.      0.    ]\n",
      "   [ 0.      0.     -0.125   0.    ]\n",
      "   [ 0.      0.      0.     -0.125 ]]\n",
      "\n",
      "  [[-0.0625 -0.125   0.      0.    ]\n",
      "   [-0.125  -0.0625 -0.125   0.    ]\n",
      "   [ 0.     -0.125  -0.0625 -0.125 ]\n",
      "   [ 0.      0.     -0.125   0.5   ]]]]\n"
     ]
    }
   ],
   "execution_count": 8
  },
  {
   "metadata": {},
   "cell_type": "code",
   "outputs": [],
   "execution_count": null,
   "source": "",
   "id": "dcd3b37db4fb349c"
  }
 ],
 "metadata": {
  "kernelspec": {
   "display_name": "Python 3",
   "language": "python",
   "name": "python3"
  },
  "language_info": {
   "codemirror_mode": {
    "name": "ipython",
    "version": 2
   },
   "file_extension": ".py",
   "mimetype": "text/x-python",
   "name": "python",
   "nbconvert_exporter": "python",
   "pygments_lexer": "ipython2",
   "version": "2.7.6"
  }
 },
 "nbformat": 4,
 "nbformat_minor": 5
}
