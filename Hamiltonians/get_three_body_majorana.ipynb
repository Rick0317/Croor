{
 "cells": [
  {
   "cell_type": "code",
   "id": "initial_id",
   "metadata": {
    "collapsed": true,
    "ExecuteTime": {
     "end_time": "2024-10-31T19:38:43.661746Z",
     "start_time": "2024-10-31T19:38:40.476927Z"
    }
   },
   "source": "import openfermion as of",
   "outputs": [],
   "execution_count": 1
  },
  {
   "metadata": {
    "ExecuteTime": {
     "end_time": "2024-10-31T19:39:28.008844Z",
     "start_time": "2024-10-31T19:39:27.985980Z"
    }
   },
   "cell_type": "code",
   "source": [
    "fermion = of.ops.FermionOperator(\n",
    "    '1^ 0',\n",
    "    1\n",
    ") + of.ops.FermionOperator(\n",
    "    '0^ 1',\n",
    "    1\n",
    ")"
   ],
   "id": "6881f9527da6aeaa",
   "outputs": [],
   "execution_count": 5
  },
  {
   "metadata": {
    "ExecuteTime": {
     "end_time": "2024-10-31T19:39:28.430480Z",
     "start_time": "2024-10-31T19:39:28.426476Z"
    }
   },
   "cell_type": "code",
   "source": "majorana = of.transforms.get_majorana_operator(fermion)",
   "id": "f8ce0581b4bb57e7",
   "outputs": [],
   "execution_count": 6
  },
  {
   "metadata": {
    "ExecuteTime": {
     "end_time": "2024-10-31T19:39:28.858570Z",
     "start_time": "2024-10-31T19:39:28.854160Z"
    }
   },
   "cell_type": "code",
   "source": "print(majorana)",
   "id": "f6d1b81d00ae4655",
   "outputs": [
    {
     "name": "stdout",
     "output_type": "stream",
     "text": [
      "0.5j (0, 3) +\n",
      "-0.5j (1, 2)\n"
     ]
    }
   ],
   "execution_count": 7
  },
  {
   "metadata": {},
   "cell_type": "code",
   "outputs": [],
   "execution_count": null,
   "source": "",
   "id": "cc474943feef94fd"
  }
 ],
 "metadata": {
  "kernelspec": {
   "display_name": "Python 3",
   "language": "python",
   "name": "python3"
  },
  "language_info": {
   "codemirror_mode": {
    "name": "ipython",
    "version": 2
   },
   "file_extension": ".py",
   "mimetype": "text/x-python",
   "name": "python",
   "nbconvert_exporter": "python",
   "pygments_lexer": "ipython2",
   "version": "2.7.6"
  }
 },
 "nbformat": 4,
 "nbformat_minor": 5
}
