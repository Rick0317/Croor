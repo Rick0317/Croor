{
 "cells": [
  {
   "cell_type": "code",
   "id": "initial_id",
   "metadata": {
    "collapsed": true,
    "ExecuteTime": {
     "end_time": "2024-08-08T19:12:08.241581Z",
     "start_time": "2024-08-08T19:12:07.620069Z"
    }
   },
   "source": [
    "import numpy as np\n",
    "from pyblock2._pyscf.ao2mo import integrals as itg\n",
    "from pyblock2.driver.core import DMRGDriver, SymmetryTypes\n",
    "from OrbitalRotation.tools.orbital_rotation_general import orbital_rotation_p_q, orbital_rotation_p_q_nf\n",
    "from OrbitalRotation.tools.obt_to_tbt import get_obt_combined_tbt"
   ],
   "outputs": [],
   "execution_count": 1
  },
  {
   "metadata": {
    "ExecuteTime": {
     "end_time": "2024-08-08T19:29:49.754179Z",
     "start_time": "2024-08-08T19:29:49.740256Z"
    }
   },
   "cell_type": "code",
   "source": [
    "def h1e_hubbard(t, ncas):\n",
    "    tensor = np.zeros((ncas, ncas))\n",
    "    for i in range(ncas - 1):\n",
    "        tensor[i, i + 1] = -t\n",
    "        tensor[i + 1, i] = -t\n",
    "    \n",
    "    return tensor\n",
    "\n",
    "def g2e_hubbard(U, ncas):\n",
    "    tensor = np.zeros((ncas, ncas, ncas, ncas))\n",
    "    for i in range(ncas):\n",
    "        tensor[i, i, i, i] = U\n",
    "        \n",
    "    return tensor\n",
    "\n",
    "\n",
    "def combined_hubbard(t, U, ncas, n_elec):\n",
    "    tensor = np.zeros((ncas, ncas, ncas, ncas))\n",
    "    for i in range(ncas - 1):\n",
    "        for j in range(ncas):\n",
    "            tensor[i, i + 1, j, j] = - t / (2 * n_elec)\n",
    "            tensor[i + 1, i, j, j] = - t / (2 * n_elec)\n",
    "            tensor[j, j, i, i + 1] = - t / (2 * n_elec)\n",
    "            tensor[j, j, i + 1, i] = - t / (2 * n_elec)\n",
    "    \n",
    "    for i in range(ncas):\n",
    "        tensor[i, i, i, i] = U / 2\n",
    "    \n",
    "    return tensor"
   ],
   "id": "59cdce601db4eb7b",
   "outputs": [],
   "execution_count": 7
  },
  {
   "metadata": {
    "ExecuteTime": {
     "end_time": "2024-08-08T19:29:50.105101Z",
     "start_time": "2024-08-08T19:29:50.102227Z"
    }
   },
   "cell_type": "code",
   "source": [
    "t = 1\n",
    "U = 1\n",
    "ncas = 2\n",
    "n_elec = 2\n",
    "\n",
    "h1e = h1e_hubbard(t, ncas)\n",
    "g2e = g2e_hubbard(U, ncas)\n",
    "\n",
    "combined_hubbard = combined_hubbard(t, U, ncas, n_elec)\n",
    "print(combined_hubbard)"
   ],
   "id": "5655118902c4f1bc",
   "outputs": [
    {
     "name": "stdout",
     "output_type": "stream",
     "text": [
      "[[[[ 1.   -0.25]\n",
      "   [-0.25  0.  ]]\n",
      "\n",
      "  [[-0.25  0.  ]\n",
      "   [ 0.   -0.25]]]\n",
      "\n",
      "\n",
      " [[[-0.25  0.  ]\n",
      "   [ 0.   -0.25]]\n",
      "\n",
      "  [[ 0.   -0.25]\n",
      "   [-0.25  1.  ]]]]\n"
     ]
    }
   ],
   "execution_count": 8
  },
  {
   "metadata": {},
   "cell_type": "code",
   "outputs": [],
   "execution_count": null,
   "source": "",
   "id": "22d163a138ee95a9"
  }
 ],
 "metadata": {
  "kernelspec": {
   "display_name": "Python 3",
   "language": "python",
   "name": "python3"
  },
  "language_info": {
   "codemirror_mode": {
    "name": "ipython",
    "version": 2
   },
   "file_extension": ".py",
   "mimetype": "text/x-python",
   "name": "python",
   "nbconvert_exporter": "python",
   "pygments_lexer": "ipython2",
   "version": "2.7.6"
  }
 },
 "nbformat": 4,
 "nbformat_minor": 5
}
