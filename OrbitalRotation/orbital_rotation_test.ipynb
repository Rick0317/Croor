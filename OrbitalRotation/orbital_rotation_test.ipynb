{
 "cells": [
  {
   "cell_type": "code",
   "id": "initial_id",
   "metadata": {
    "collapsed": true,
    "ExecuteTime": {
     "end_time": "2024-09-23T03:10:19.260072Z",
     "start_time": "2024-09-23T03:10:19.156799Z"
    }
   },
   "source": [
    "import numpy as np\n",
    "from pyblock2._pyscf.ao2mo import integrals as itg\n",
    "from pyblock2.driver.core import DMRGDriver, SymmetryTypes\n",
    "from OrbitalRotation.tools.orbital_rotation_general import orbital_rotation_p_q, orbital_rotation_p_q_nf\n",
    "from OrbitalRotation.tools.obt_to_tbt import get_obt_combined_tbt"
   ],
   "outputs": [],
   "execution_count": 2
  },
  {
   "metadata": {
    "ExecuteTime": {
     "end_time": "2024-09-23T03:10:20.430788Z",
     "start_time": "2024-09-23T03:10:19.560880Z"
    }
   },
   "cell_type": "code",
   "source": [
    "from pyscf import gto, scf\n",
    "\n",
    "mol = gto.M(atom=\"H 0 0 0; H 0 0 1\", basis=\"sto3g\", symmetry=\"d2h\", verbose=0)\n",
    "mf = scf.RHF(mol).run(conv_tol=1E-14)\n",
    "ncas, n_elec, spin, ecore, h1e, g2e, orb_sym = itg.get_rhf_integrals(mf,\n",
    "    ncore=0, ncas=None, g2e_symm=8)\n",
    "print(f\"n Cas: {ncas}\")\n",
    "print(f\"orb sym: {orb_sym}\")\n",
    "driver = DMRGDriver(scratch=\"./tmp\", symm_type=SymmetryTypes.SZ, n_threads=4)\n",
    "driver.initialize_system(n_sites=ncas, n_elec=n_elec, spin=spin, orb_sym=orb_sym)"
   ],
   "id": "a84ba273e6616e8c",
   "outputs": [
    {
     "name": "stdout",
     "output_type": "stream",
     "text": [
      "n Cas: 2\n",
      "orb sym: [0, 5]\n"
     ]
    }
   ],
   "execution_count": 3
  },
  {
   "metadata": {
    "ExecuteTime": {
     "end_time": "2024-08-06T15:30:05.554384Z",
     "start_time": "2024-08-06T15:30:05.534411Z"
    }
   },
   "cell_type": "code",
   "source": "print(h1e)",
   "id": "ee9835265e7c2715",
   "outputs": [
    {
     "name": "stdout",
     "output_type": "stream",
     "text": [
      "[[-1.06339037e+00 -1.28886187e-16]\n",
      " [ 7.08648939e-18 -6.14752718e-01]]\n"
     ]
    }
   ],
   "execution_count": 3
  },
  {
   "metadata": {
    "ExecuteTime": {
     "end_time": "2024-08-06T15:30:11.364713Z",
     "start_time": "2024-08-06T15:30:11.356589Z"
    }
   },
   "cell_type": "code",
   "source": "print(g2e)",
   "id": "ad57fec8f91b913f",
   "outputs": [
    {
     "name": "stdout",
     "output_type": "stream",
     "text": [
      "[ 6.09171679e-01 -1.46384574e-17  2.03222227e-01  6.07335428e-01\n",
      "  3.15485749e-17  6.37479877e-01]\n"
     ]
    }
   ],
   "execution_count": 4
  },
  {
   "metadata": {
    "ExecuteTime": {
     "end_time": "2024-08-06T15:40:52.638873Z",
     "start_time": "2024-08-06T15:40:52.632121Z"
    }
   },
   "cell_type": "code",
   "source": "orb_01 = orbital_rotation_p_q_nf(0, 1, 2, 0.1)",
   "id": "b14472d42fa0f9b9",
   "outputs": [],
   "execution_count": 9
  },
  {
   "metadata": {
    "ExecuteTime": {
     "end_time": "2024-08-06T15:40:56.584182Z",
     "start_time": "2024-08-06T15:40:56.576882Z"
    }
   },
   "cell_type": "code",
   "source": "print(orb_01)",
   "id": "a90e4c44e088164b",
   "outputs": [
    {
     "name": "stdout",
     "output_type": "stream",
     "text": [
      "[[ 0.99500417  0.09983342]\n",
      " [-0.09983342  0.99500417]]\n"
     ]
    }
   ],
   "execution_count": 10
  },
  {
   "metadata": {
    "ExecuteTime": {
     "end_time": "2024-08-06T15:41:14.867448Z",
     "start_time": "2024-08-06T15:41:14.846797Z"
    }
   },
   "cell_type": "code",
   "source": "orb_01 @ h1e @ orb_01.conj().T",
   "id": "db2eae16e9690068",
   "outputs": [
    {
     "data": {
      "text/plain": [
       "array([[-1.05891893,  0.04456527],\n",
       "       [ 0.04456527, -0.61922416]])"
      ]
     },
     "execution_count": 11,
     "metadata": {},
     "output_type": "execute_result"
    }
   ],
   "execution_count": 11
  },
  {
   "metadata": {},
   "cell_type": "markdown",
   "source": "# This is a simple test of optimizing a 2 by 2 one-body term",
   "id": "44af3ed9182c889e"
  },
  {
   "metadata": {
    "ExecuteTime": {
     "end_time": "2024-08-06T15:47:20.890039Z",
     "start_time": "2024-08-06T15:47:20.872349Z"
    }
   },
   "cell_type": "code",
   "source": "h1e = np.array([[-1.03, 0.4], [0.4, -0.67]])",
   "id": "8c039cd89dacb3a",
   "outputs": [],
   "execution_count": 23
  },
  {
   "metadata": {
    "ExecuteTime": {
     "end_time": "2024-08-06T15:47:21.412999Z",
     "start_time": "2024-08-06T15:47:21.410169Z"
    }
   },
   "cell_type": "code",
   "source": [
    "from scipy.linalg import norm\n",
    "from scipy.optimize import minimize\n",
    "\n",
    "def cost_fn(theta):\n",
    "    orb_01 = orbital_rotation_p_q_nf(0, 1, 2, theta)\n",
    "    h_eff = orb_01 @ h1e @ orb_01.conj().T\n",
    "    diag_h_eff = np.array([[h_eff[0, 0], 0], [0, h_eff[1, 1]]])\n",
    "    return norm(h_eff - diag_h_eff, ord=None)"
   ],
   "id": "63a612700c924e98",
   "outputs": [],
   "execution_count": 24
  },
  {
   "metadata": {
    "ExecuteTime": {
     "end_time": "2024-08-06T15:47:22.319159Z",
     "start_time": "2024-08-06T15:47:22.291763Z"
    }
   },
   "cell_type": "code",
   "source": "result = minimize(cost_fn, x0=np.array([0.1]))",
   "id": "c80d12bf31c394ba",
   "outputs": [],
   "execution_count": 25
  },
  {
   "metadata": {
    "ExecuteTime": {
     "end_time": "2024-08-06T15:47:22.960152Z",
     "start_time": "2024-08-06T15:47:22.955635Z"
    }
   },
   "cell_type": "code",
   "source": "print(result)",
   "id": "43cd084376f4df90",
   "outputs": [
    {
     "name": "stdout",
     "output_type": "stream",
     "text": [
      "  message: Optimization terminated successfully.\n",
      "  success: True\n",
      "   status: 0\n",
      "      fun: 9.243525563498274e-09\n",
      "        x: [-5.740e-01]\n",
      "      nit: 2\n",
      "      jac: [-9.575e-09]\n",
      " hess_inv: [[ 1.788e+00]]\n",
      "     nfev: 52\n",
      "     njev: 26\n"
     ]
    }
   ],
   "execution_count": 26
  },
  {
   "metadata": {
    "ExecuteTime": {
     "end_time": "2024-08-06T15:47:25.175727Z",
     "start_time": "2024-08-06T15:47:25.169695Z"
    }
   },
   "cell_type": "code",
   "source": "result.x[0]",
   "id": "c23c2e9782d3bb16",
   "outputs": [
    {
     "data": {
      "text/plain": [
       "-0.5739712077815586"
      ]
     },
     "execution_count": 27,
     "metadata": {},
     "output_type": "execute_result"
    }
   ],
   "execution_count": 27
  },
  {
   "metadata": {
    "ExecuteTime": {
     "end_time": "2024-08-06T15:47:26.907758Z",
     "start_time": "2024-08-06T15:47:26.901289Z"
    }
   },
   "cell_type": "code",
   "source": [
    "original = cost_fn(0)\n",
    "print(original)\n",
    "minimized = cost_fn(result.x[0])\n",
    "print(minimized)"
   ],
   "id": "4ccec51338e34dc0",
   "outputs": [
    {
     "name": "stdout",
     "output_type": "stream",
     "text": [
      "0.5656854249492381\n",
      "9.243525563498274e-09\n"
     ]
    }
   ],
   "execution_count": 28
  },
  {
   "metadata": {},
   "cell_type": "markdown",
   "source": "# Simple test using a OBT combined TBT",
   "id": "7400348e336d9264"
  },
  {
   "metadata": {
    "ExecuteTime": {
     "end_time": "2024-08-06T16:00:07.691796Z",
     "start_time": "2024-08-06T16:00:07.677830Z"
    }
   },
   "cell_type": "code",
   "source": "combined_tbt = get_obt_combined_tbt(h1e, g2e, ncas, n_elec)",
   "id": "5bc7a8667affbf46",
   "outputs": [],
   "execution_count": 31
  },
  {
   "metadata": {
    "ExecuteTime": {
     "end_time": "2024-08-06T16:00:12.056295Z",
     "start_time": "2024-08-06T16:00:12.046822Z"
    }
   },
   "cell_type": "code",
   "source": "print(combined_tbt)",
   "id": "97f1fbb9ae13b35c",
   "outputs": [
    {
     "name": "stdout",
     "output_type": "stream",
     "text": [
      "[[[[-0.82702527  0.2       ]\n",
      "   [ 0.2        -0.65593857]]\n",
      "\n",
      "  [[ 0.2         0.20322223]\n",
      "   [ 0.20322223  0.2       ]]]\n",
      "\n",
      "\n",
      " [[[ 0.2         0.20322223]\n",
      "   [ 0.20322223  0.2       ]]\n",
      "\n",
      "  [[-0.65593857  0.2       ]\n",
      "   [ 0.2        -0.45287117]]]]\n"
     ]
    }
   ],
   "execution_count": 32
  },
  {
   "metadata": {
    "ExecuteTime": {
     "end_time": "2024-09-23T03:10:23.939204Z",
     "start_time": "2024-09-23T03:10:23.868479Z"
    }
   },
   "cell_type": "code",
   "source": [
    "import pyscf\n",
    "from pathlib import Path \n",
    "mol = gto.M(atom=\"N 0 0 0; N 0 0 1.2\", basis=\"sto3g\", verbose=0)\n",
    "mf = scf.RHF(mol).run(conv_tol=1E-14)\n",
    "ncas, n_elec, spin, ecore, h1e, g2e, orb_sym = itg.get_rhf_integrals(mf,\n",
    "    ncore=0, ncas=None, g2e_symm=8)\n",
    "print(f\"n Cas: {ncas}\")\n",
    "print(f\"orb sym: {orb_sym}\")\n",
    "driver = DMRGDriver(scratch=\"./tmp\", symm_type=SymmetryTypes.SZ, n_threads=4)\n",
    "driver.initialize_system(n_sites=ncas, n_elec=n_elec, spin=spin, orb_sym=orb_sym)\n",
    "\n",
    "obt_dummy = np.zeros((ncas, ncas))\n",
    "combined_tbt = get_obt_combined_tbt(h1e, g2e, ncas, n_elec)\n",
    "\n",
    "### We use the chemist notation of TBT ###\n",
    "\n",
    "label = \"_tbt_combined\"\n",
    "filename = \"fcidump.N2_12\" + f\"{label}\"\n",
    "pyscf.tools.fcidump.from_integrals(\n",
    "    \"fcidump_output\"/Path(filename),\n",
    "    obt_dummy,\n",
    "    combined_tbt,\n",
    "    nmo=obt_dummy.shape[0],\n",
    "    nelec=n_elec,\n",
    "    nuc=ecore,\n",
    "    ms=spin,\n",
    "    orbsym=None,\n",
    "    tol=1E-8,\n",
    "    float_format=' %.16g',\n",
    ")"
   ],
   "id": "439c76f26d34d61e",
   "outputs": [
    {
     "name": "stdout",
     "output_type": "stream",
     "text": [
      "n Cas: 10\n",
      "orb sym: [0, 0, 0, 0, 0, 0, 0, 0, 0, 0]\n"
     ]
    }
   ],
   "execution_count": 4
  },
  {
   "metadata": {},
   "cell_type": "code",
   "outputs": [],
   "execution_count": null,
   "source": "",
   "id": "dfee5cb22cc37e96"
  }
 ],
 "metadata": {
  "kernelspec": {
   "display_name": "Python 3",
   "language": "python",
   "name": "python3"
  },
  "language_info": {
   "codemirror_mode": {
    "name": "ipython",
    "version": 2
   },
   "file_extension": ".py",
   "mimetype": "text/x-python",
   "name": "python",
   "nbconvert_exporter": "python",
   "pygments_lexer": "ipython2",
   "version": "2.7.6"
  }
 },
 "nbformat": 4,
 "nbformat_minor": 5
}
