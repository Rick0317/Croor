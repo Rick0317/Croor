{
 "cells": [
  {
   "metadata": {},
   "cell_type": "markdown",
   "source": "# This is a file for orbital rotation with a pre-computed unitary frame",
   "id": "81355db7b82d4030"
  },
  {
   "cell_type": "code",
   "id": "initial_id",
   "metadata": {
    "collapsed": true,
    "ExecuteTime": {
     "end_time": "2024-08-22T16:27:34.010927Z",
     "start_time": "2024-08-22T16:27:33.978679Z"
    }
   },
   "source": [
    "import pandas as pd\n",
    "import pyscf\n",
    "from pyscf import gto, scf\n",
    "from OrbitalRotation.tools.obt_to_tbt import get_obt_combined_tbt\n",
    "import numpy as np\n",
    "from pyblock2._pyscf.ao2mo import integrals as itg\n",
    "from pyblock2.driver.core import DMRGDriver, SymmetryTypes\n",
    "from basic_definitions import chemist_to_physicist\n",
    "from pathlib import Path "
   ],
   "outputs": [],
   "execution_count": 50
  },
  {
   "metadata": {
    "ExecuteTime": {
     "end_time": "2024-08-22T16:27:35.013914Z",
     "start_time": "2024-08-22T16:27:34.992885Z"
    }
   },
   "cell_type": "code",
   "source": [
    "df = pd.read_csv(\"unitary_store/largest_unitary.csv\")\n",
    "U = df.values"
   ],
   "id": "2a75ea4d2f2f90c9",
   "outputs": [],
   "execution_count": 51
  },
  {
   "metadata": {
    "ExecuteTime": {
     "end_time": "2024-08-22T16:27:35.462830Z",
     "start_time": "2024-08-22T16:27:35.451066Z"
    }
   },
   "cell_type": "code",
   "source": [
    "iden = U @ U.conj().T\n",
    "iden2 = U.conj().T @ U\n",
    "print(np.allclose(iden, np.eye(U.shape[0])))\n",
    "print(np.allclose(iden2, np.eye(U.shape[0])))"
   ],
   "id": "fa2bb984096f142b",
   "outputs": [
    {
     "name": "stdout",
     "output_type": "stream",
     "text": [
      "True\n",
      "True\n"
     ]
    }
   ],
   "execution_count": 52
  },
  {
   "metadata": {},
   "cell_type": "markdown",
   "source": "## load the original Hamiltonian with one-body term combined",
   "id": "383e022ba6cc1813"
  },
  {
   "metadata": {
    "ExecuteTime": {
     "end_time": "2024-08-22T16:27:43.907241Z",
     "start_time": "2024-08-22T16:27:43.705341Z"
    }
   },
   "cell_type": "code",
   "source": [
    "mol = gto.M(atom=\"N 0 0 0; N 0 0 2.2\", basis=\"sto3g\", verbose=0)\n",
    "mf = scf.RHF(mol).run(conv_tol=1E-14)\n",
    "ncas, n_elec, spin, ecore, h1e, g2e, orb_sym = itg.get_rhf_integrals(mf,\n",
    "    ncore=0, ncas=None, g2e_symm=8)\n",
    "print(f\"n Cas: {ncas}\")\n",
    "print(f\"orb sym: {orb_sym}\")\n",
    "driver = DMRGDriver(scratch=\"./tmp\", symm_type=SymmetryTypes.SZ, n_threads=4)\n",
    "driver.initialize_system(n_sites=ncas, n_elec=n_elec, spin=spin, orb_sym=orb_sym)\n",
    "\n",
    "obt_dummy = np.zeros((ncas, ncas))\n",
    "combined_tbt = get_obt_combined_tbt(h1e, g2e, ncas, n_elec)\n",
    "\n",
    "obt, tbt = chemist_to_physicist(obt_dummy, combined_tbt)\n",
    "\n",
    "label = \"_original\"\n",
    "filename = \"fcidump.N2_22\" + f\"{label}\"\n",
    "pyscf.tools.fcidump.from_integrals(\n",
    "    \"fcidump_output\"/Path(filename),\n",
    "    obt,\n",
    "    tbt,\n",
    "    nmo=obt.shape[0],\n",
    "    nelec=n_elec,\n",
    "    nuc=ecore,\n",
    "    ms=spin,\n",
    "    orbsym=None,\n",
    "    tol=1E-8,\n",
    "    float_format=' %.16g',\n",
    ")\n",
    "\n",
    "obt_dummy = np.zeros((ncas, ncas))\n",
    "combined_tbt = get_obt_combined_tbt(h1e, g2e, ncas, n_elec)"
   ],
   "id": "fb782f7575f1bcf1",
   "outputs": [
    {
     "name": "stdout",
     "output_type": "stream",
     "text": [
      "n Cas: 10\n",
      "orb sym: [0, 0, 0, 0, 0, 0, 0, 0, 0, 0]\n"
     ]
    }
   ],
   "execution_count": 53
  },
  {
   "metadata": {},
   "cell_type": "markdown",
   "source": "## Apply the rotation and get the chemist tbt",
   "id": "7197f407cf9d3786"
  },
  {
   "metadata": {
    "ExecuteTime": {
     "end_time": "2024-08-22T16:27:45.360821Z",
     "start_time": "2024-08-22T16:27:45.351890Z"
    }
   },
   "cell_type": "code",
   "source": [
    "p = np.einsum_path('ak,bl,cm,dn,klmn->abcd', U, U, U, U, combined_tbt)[0]\n",
    "rotated_tbt = np.einsum('ak,bl,cm,dn,klmn->abcd', U, U, U, U, combined_tbt, optimize = p)"
   ],
   "id": "f85ea264167f1904",
   "outputs": [],
   "execution_count": 54
  },
  {
   "metadata": {
    "ExecuteTime": {
     "end_time": "2024-08-22T16:27:45.916493Z",
     "start_time": "2024-08-22T16:27:45.913164Z"
    }
   },
   "cell_type": "code",
   "source": "obt, tbt = chemist_to_physicist(obt_dummy, rotated_tbt)",
   "id": "5d66c9ece9690f5b",
   "outputs": [],
   "execution_count": 55
  },
  {
   "metadata": {
    "ExecuteTime": {
     "end_time": "2024-08-22T16:27:49.380685Z",
     "start_time": "2024-08-22T16:27:49.354903Z"
    }
   },
   "cell_type": "code",
   "source": [
    "label = \"rotated\"\n",
    "filename = \"fcidump.N2_22\" + f\"{label}\"\n",
    "pyscf.tools.fcidump.from_integrals(\n",
    "    \"fcidump_output\"/Path(filename),\n",
    "    obt,\n",
    "    tbt,\n",
    "    nmo=obt.shape[0],\n",
    "    nelec=n_elec,\n",
    "    nuc=ecore,\n",
    "    ms=spin,\n",
    "    orbsym=None,\n",
    "    tol=1E-8,\n",
    "    float_format=' %.16g',\n",
    ")"
   ],
   "id": "e666183cf1eef8ac",
   "outputs": [],
   "execution_count": 56
  },
  {
   "metadata": {},
   "cell_type": "code",
   "outputs": [],
   "execution_count": null,
   "source": "",
   "id": "3bc1acd88597f422"
  }
 ],
 "metadata": {
  "kernelspec": {
   "display_name": "Python 3",
   "language": "python",
   "name": "python3"
  },
  "language_info": {
   "codemirror_mode": {
    "name": "ipython",
    "version": 2
   },
   "file_extension": ".py",
   "mimetype": "text/x-python",
   "name": "python",
   "nbconvert_exporter": "python",
   "pygments_lexer": "ipython2",
   "version": "2.7.6"
  }
 },
 "nbformat": 4,
 "nbformat_minor": 5
}
