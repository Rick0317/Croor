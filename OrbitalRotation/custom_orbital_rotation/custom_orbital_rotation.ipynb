{
 "cells": [
  {
   "metadata": {},
   "cell_type": "markdown",
   "source": "# This is a workbook for optimizing the orbital rotation based on the mutual information matrix",
   "id": "bafdffa10efc2a5e"
  },
  {
   "metadata": {
    "ExecuteTime": {
     "end_time": "2024-10-05T04:18:52.814654Z",
     "start_time": "2024-10-05T04:18:52.793693Z"
    }
   },
   "cell_type": "code",
   "source": [
    "from pathlib import Path\n",
    "from random import random\n",
    "\n",
    "import numpy as np\n",
    "import pyscf\n",
    "import scipy\n",
    "from pyscf import gto, scf\n",
    "from scipy.optimize import minimize\n",
    "\n",
    "from basic_definitions import chemist_to_physicist\n",
    "from dmrghandler.src.dmrghandler.qchem_dmrg_calc import single_qchem_dmrg_calc\n",
    "from get_dmrg_config import get_dmrg_process_param, get_dmrg_config, get_dmrg_config_type1\n",
    "from OrbitalRotation.tools.obt_to_tbt import get_obt_combined_tbt\n",
    "from pyblock2._pyscf.ao2mo import integrals as itg\n",
    "from pyblock2.driver.core import DMRGDriver, SymmetryTypes"
   ],
   "id": "242c4a2b760a8cfb",
   "outputs": [],
   "execution_count": 53
  },
  {
   "metadata": {},
   "cell_type": "markdown",
   "source": [
    "## Hamiltonian preparation\n",
    "=== The list of Hamiltonians ===\n",
    "* Molecular Hamiltonians used in the paper such as N_2 or H_2O\n",
    "* Nearest-neighbour Hubbard model Hamiltonian"
   ],
   "id": "72724d9bad639cbc"
  },
  {
   "metadata": {
    "ExecuteTime": {
     "end_time": "2024-10-05T04:47:10.744625Z",
     "start_time": "2024-10-05T04:47:10.606596Z"
    }
   },
   "cell_type": "code",
   "source": [
    "mol = gto.M(\n",
    "        atom=f\"O 0 0 0; H  0 1.0 0; H 0 0 1.0\",\n",
    "        basis='sto-3g')\n",
    "mf = scf.RHF(mol).run(conv_tol=1E-14)\n",
    "ncas, n_elec, spin, ecore, h1e, g2e, orb_sym = itg.get_rhf_integrals(mf,\n",
    "    ncore=0, ncas=None, g2e_symm=1)\n",
    "\n",
    "\n",
    "\n",
    "print(f\"n Cas: {ncas}\")\n",
    "print(f\"orb sym: {orb_sym}\")\n",
    "driver = DMRGDriver(scratch=\"./tmp\", symm_type=SymmetryTypes.SZ, n_threads=4)\n",
    "driver.initialize_system(n_sites=ncas, n_elec=n_elec, spin=spin, orb_sym=orb_sym)\n",
    "\n",
    "absorbed_tbt = pyscf.fci.direct_nosym.absorb_h1e(np.array(h1e.copy()), np.array(g2e.copy()), norb=ncas, nelec=n_elec)\n",
    "h_in_tbt = pyscf.ao2mo.restore(1, absorbed_tbt.copy(), ncas).astype(np.array(h1e.copy()).dtype, copy=False)\n",
    "combined_tbt = 0.5 * h_in_tbt\n",
    "obt_dummy = np.zeros((ncas, ncas))\n",
    "obt, tbt = chemist_to_physicist(obt_dummy, 0.5 * h_in_tbt)\n"
   ],
   "id": "ab2380a925a784f0",
   "outputs": [
    {
     "name": "stdout",
     "output_type": "stream",
     "text": [
      "converged SCF energy = -74.9611711378677\n",
      "n Cas: 7\n",
      "orb sym: [0, 0, 0, 0, 0, 0, 0]\n"
     ]
    }
   ],
   "execution_count": 76
  },
  {
   "metadata": {
    "ExecuteTime": {
     "end_time": "2024-10-05T04:47:11.531325Z",
     "start_time": "2024-10-05T04:47:11.516560Z"
    }
   },
   "cell_type": "code",
   "source": [
    "def combined_hubbard(t, U, ncas, n_elec):\n",
    "    \"\"\"\n",
    "    The one-body term combined chemist notation of nearest-neighbour Hubbard model Hamiltonian.\n",
    "    :param t: Hopping term strength\n",
    "    :param U: Onsite interaction strength\n",
    "    :param ncas: Number of spatial sites\n",
    "    :param n_elec: Number of electrons\n",
    "    :return: \n",
    "    \"\"\"\n",
    "    tensor = np.zeros((ncas, ncas, ncas, ncas))\n",
    "    for i in range(ncas - 1):\n",
    "        for j in range(ncas):\n",
    "            tensor[i, i + 1, j, j] = - t / (2 * n_elec)\n",
    "            tensor[i + 1, i, j, j] = - t / (2 * n_elec)\n",
    "            tensor[j, j, i, i + 1] = - t / (2 * n_elec)\n",
    "            tensor[j, j, i + 1, i] = - t / (2 * n_elec)\n",
    "            tensor[i, i, j, j] = - U / (4 * n_elec)\n",
    "            tensor[j, j, i, i] = - U / (4 * n_elec)\n",
    "    \n",
    "    for i in range(ncas):\n",
    "        tensor[i, i, i, i] = U / 2\n",
    "    \n",
    "    return tensor\n",
    "\n",
    "# t = 1\n",
    "# U = 1\n",
    "# ncas = 4\n",
    "# n_elec = 4\n",
    "\n",
    "driver = DMRGDriver(scratch=\"./tmp\", symm_type=SymmetryTypes.SZ, n_threads=4)\n",
    "driver.initialize_system(n_sites=ncas, n_elec=n_elec, spin=spin, orb_sym=orb_sym)\n",
    "\n",
    "# combined_tbt = combined_hubbard(t, U, ncas, n_elec)\n",
    "# obt_dummy = np.zeros((ncas, ncas))\n",
    "\n",
    "one_body_tensor, two_body_tensor = chemist_to_physicist(obt_dummy, combined_tbt)\n",
    "\n",
    "\n",
    "label = \"_before\"\n",
    "filename = \"fcidump.H2O_10\" + f\"{label}\"\n",
    "pyscf.tools.fcidump.from_integrals(\n",
    "    \"fcidump_output\"/Path(filename),\n",
    "    one_body_tensor,\n",
    "    two_body_tensor,\n",
    "    nmo=one_body_tensor.shape[0],\n",
    "    nelec=n_elec,\n",
    "    nuc=ecore,\n",
    "    ms=spin,\n",
    "    orbsym=None,\n",
    "    tol=1E-8,\n",
    "    float_format=' %.16g',\n",
    ")"
   ],
   "id": "2cc86abf593cad9e",
   "outputs": [],
   "execution_count": 77
  },
  {
   "metadata": {},
   "cell_type": "markdown",
   "source": "# Apply Orbital Reordering",
   "id": "90d5c221b2218b96"
  },
  {
   "metadata": {
    "ExecuteTime": {
     "end_time": "2024-10-05T04:47:12.758215Z",
     "start_time": "2024-10-05T04:47:12.661981Z"
    }
   },
   "cell_type": "code",
   "source": [
    "mol = gto.M(\n",
    "        atom=f\"O 0 0 0; H  0 1.0 0; H 0 0 1.0\",\n",
    "        basis='sto-3g')\n",
    "mf = scf.RHF(mol).run(conv_tol=1E-14)\n",
    "ncas, n_elec, spin, ecore, h1e, g2e, orb_sym = itg.get_rhf_integrals(mf,\n",
    "    ncore=0, ncas=None, g2e_symm=1)\n",
    "\n",
    "\n",
    "\n",
    "print(f\"n Cas: {ncas}\")\n",
    "print(f\"orb sym: {orb_sym}\")\n",
    "driver = DMRGDriver(scratch=\"./tmp\", symm_type=SymmetryTypes.SZ, n_threads=4)\n",
    "driver.initialize_system(n_sites=ncas, n_elec=n_elec, spin=spin, orb_sym=orb_sym)\n",
    "\n",
    "\n",
    "idx = driver.orbital_reordering(h1e, g2e)\n",
    "h1e = h1e[idx][:, idx]\n",
    "g2e = g2e[idx][:, idx][:, :, idx][:, :, :, idx]\n",
    "orb_sym = np.array(orb_sym)[idx]\n",
    "\n",
    "absorbed_tbt = pyscf.fci.direct_nosym.absorb_h1e(np.array(h1e.copy()), np.array(g2e.copy()), norb=ncas, nelec=n_elec)\n",
    "h_in_tbt = pyscf.ao2mo.restore(1, absorbed_tbt.copy(), ncas).astype(np.array(h1e.copy()).dtype, copy=False)\n",
    "combined_tbt_optimizing = 0.5 * h_in_tbt\n",
    "obt_dummy = np.zeros((ncas, ncas))\n",
    "obt, tbt = chemist_to_physicist(obt_dummy, 0.5 * h_in_tbt)\n",
    "\n",
    "num_orbitals = ncas\n",
    "num_electrons = n_elec\n",
    "num_unpaired = spin\n",
    "multiplicity = 2 * spin + 1\n",
    "\n",
    "\n",
    "dmrg_params = get_dmrg_config(\n",
    "    num_orbitals, num_electrons, num_unpaired,\n",
    "    multiplicity)\n",
    "\n",
    "print(num_orbitals)"
   ],
   "id": "fc5a0f0c74f218e1",
   "outputs": [
    {
     "name": "stdout",
     "output_type": "stream",
     "text": [
      "converged SCF energy = -74.9611711378677\n",
      "n Cas: 7\n",
      "orb sym: [0, 0, 0, 0, 0, 0, 0]\n",
      "7\n"
     ]
    }
   ],
   "execution_count": 78
  },
  {
   "metadata": {
    "ExecuteTime": {
     "end_time": "2024-10-05T04:47:13.480093Z",
     "start_time": "2024-10-05T04:47:13.476781Z"
    }
   },
   "cell_type": "code",
   "source": [
    "def prepare_exact_dmrg_config():\n",
    "    \n",
    "    dmrg_params = get_dmrg_config_type1(\n",
    "        num_orbitals, num_electrons, num_unpaired,\n",
    "        multiplicity)\n",
    "    \n",
    "    return dmrg_params\n",
    "\n",
    "def prepare_dmrg_config():\n",
    "    \n",
    "    dmrg_params = get_dmrg_config(\n",
    "        num_orbitals, num_electrons, num_unpaired,\n",
    "        multiplicity)\n",
    "    \n",
    "    return dmrg_params"
   ],
   "id": "e00b6c173802ef7e",
   "outputs": [],
   "execution_count": 79
  },
  {
   "metadata": {},
   "cell_type": "markdown",
   "source": "## Definitions of the orbital rotation unitary as well as the mutual information cost function",
   "id": "56a0ac4b8c6d7fa0"
  },
  {
   "metadata": {
    "ExecuteTime": {
     "end_time": "2024-10-05T04:47:14.660946Z",
     "start_time": "2024-10-05T04:47:14.639208Z"
    }
   },
   "cell_type": "code",
   "source": [
    "def get_anti_symmetric(n):\n",
    "    '''\n",
    "    Construct list of anti-symmetric matrices kappa_pq based on n*(n-1)/2 \n",
    "    '''\n",
    "    kappas = []\n",
    "    for p in range(n):\n",
    "        for q in range(p+1, n):\n",
    "            kappa = np.zeros((n, n))\n",
    "            kappa[p, q] = 1\n",
    "            kappa[q, p] = -1\n",
    "            kappas.append(kappa)\n",
    "    return kappas\n",
    "\n",
    "def construct_anti_symmetric(n, params):\n",
    "    '''\n",
    "    Constrcut the nxn anti-symmetric matrix based on the sum of basis with oparams as coefficients\n",
    "    '''\n",
    "    real_anti = get_anti_symmetric(n)\n",
    "    anti_symm = np.zeros((n, n))\n",
    "    for idx, antisym in enumerate(real_anti):\n",
    "        anti_symm += params[idx] * antisym\n",
    "    return anti_symm\n",
    "\n",
    "def construct_orthogonal(n, params):\n",
    "    '''\n",
    "    The parameters are n(n-1)/2 terms that determines the lower diagonals of e^{anti-symmetric}\n",
    "    '''\n",
    "    anti_symm = construct_anti_symmetric(n, params)\n",
    "    return scipy.linalg.expm(anti_symm)\n",
    "    \n",
    "\n",
    "def mutual_info(ket):\n",
    "    \"\"\"\n",
    "    Calculate the mutual information of the state between sites i and j.\n",
    "    :param state: The state of the system.\n",
    "    :param i: One site index\n",
    "    :param j: Another site index\n",
    "    :return: The mutual information of the state between sites i and j.\n",
    "    \"\"\"\n",
    "    ordm1 = driver.get_orbital_entropies(ket, orb_type=1)\n",
    "    ordm2 = driver.get_orbital_entropies(ket, orb_type=2)\n",
    "    minfo = 0.5 * (ordm1[:, None] + ordm1[None, :] - ordm2) * (1 - np.identity(len(ordm1)))\n",
    "    return minfo\n",
    "\n",
    "def mi_cost_fn(parameters):\n",
    "    \"\"\"\n",
    "    Obtain the cost function given by the mutual information matrix calculated from \n",
    "    the approximate ground state of the system.\n",
    "    :param one_body_tensor: \n",
    "    :param two_body_tensor: \n",
    "    :return: \n",
    "    \"\"\"\n",
    "    n_orb = combined_tbt_optimizing.shape[0]\n",
    "    \n",
    "    ### 1, Get the parameterized orbital rotated tensors ###\n",
    "    U = construct_orthogonal(n_orb, parameters)\n",
    "    p = np.einsum_path('ak,bl,cm,dn,klmn->abcd', U, U, U, U, combined_tbt_optimizing.copy())[0]\n",
    "    rotated_tbt = np.einsum('ak,bl,cm,dn,klmn->abcd', U, U, U, U, combined_tbt_optimizing.copy(), optimize = p)\n",
    "    \n",
    "    one_body_tensor, two_body_tensor = chemist_to_physicist(obt_dummy, rotated_tbt)\n",
    "    \n",
    "    dmrg_params = prepare_exact_dmrg_config()\n",
    "    ### 2, Get the exact ground-state with BD = 100 ###\n",
    "    result = single_qchem_dmrg_calc(one_body_tensor, two_body_tensor, dmrg_params)\n",
    "    mps = result['ket_optimized']\n",
    "    \n",
    "    ### 3, Get the mutual information matrix elements of the state ###\n",
    "    minfo = mutual_info(mps)\n",
    "    total = 0\n",
    "    for i in range(n_orb//2, n_orb):\n",
    "        for j in range(n_orb// 2, n_orb):\n",
    "            total += abs(i - j) ** 2 * minfo[i, j]\n",
    "    \n",
    "    return total\n",
    "\n",
    "def callback(xk):\n",
    "    print(f\"Current objective value: {mi_cost_fn(xk)}\")"
   ],
   "id": "542e77ec58d3477c",
   "outputs": [],
   "execution_count": 80
  },
  {
   "metadata": {},
   "cell_type": "markdown",
   "source": "## Optimization",
   "id": "716879466bba1123"
  },
  {
   "metadata": {
    "ExecuteTime": {
     "end_time": "2024-10-05T04:50:51.197805Z",
     "start_time": "2024-10-05T04:47:15.784871Z"
    }
   },
   "cell_type": "code",
   "source": [
    "import random\n",
    "\n",
    "params = [random.random() for _ in range(int(ncas * (ncas - 1) / 2))]\n",
    "res = minimize(mi_cost_fn, params, method='nelder-mead',\n",
    "               options={'xatol': 1e-30, 'disp': True, 'maxfev': 100}, callback=callback)\n",
    "# res = minimize(mi_cost_fn, params, method='BFGS',\n",
    "#                options={'xrtol': 1e-30,'disp': True, 'maxiter': 100}, callback=callback)"
   ],
   "id": "67e35883ae64ea4a",
   "outputs": [
    {
     "name": "stdout",
     "output_type": "stream",
     "text": [
      "Current objective value: 8.254649833139343\n",
      "Current objective value: 8.254649833139343\n",
      "Current objective value: 8.254649833139343\n",
      "Current objective value: 8.254649833139343\n",
      "Current objective value: 8.254649833139343\n",
      "Current objective value: 8.254649833139343\n",
      "Current objective value: 8.254649833139343\n",
      "Current objective value: 8.254649833139343\n",
      "Current objective value: 8.254649833139343\n",
      "Current objective value: 8.254649833139343\n",
      "Current objective value: 8.254649833139343\n",
      "Current objective value: 8.254649833139343\n",
      "Current objective value: 8.254649833139343\n",
      "Current objective value: 8.254649833139343\n",
      "Current objective value: 8.254649833139343\n",
      "Current objective value: 8.254649833139343\n",
      "Current objective value: 8.254649833139343\n",
      "Current objective value: 8.254649833139343\n",
      "Current objective value: 8.254649833139343\n",
      "Current objective value: 7.8299605522996165\n",
      "Current objective value: 7.8299605522996165\n",
      "Current objective value: 7.8299605522996165\n",
      "Current objective value: 7.8299605522996165\n",
      "Current objective value: 7.8299605522996165\n",
      "Current objective value: 7.8299605522996165\n",
      "Current objective value: 7.8299605522996165\n",
      "Current objective value: 7.8299605522996165\n",
      "Current objective value: 7.8299605522996165\n",
      "Current objective value: 7.8299605522996165\n",
      "Current objective value: 7.8299605522996165\n",
      "Current objective value: 7.8299605522996165\n",
      "Current objective value: 7.8299605522996165\n",
      "Current objective value: 7.444170646010335\n",
      "Current objective value: 7.444170646010335\n",
      "Current objective value: 7.444170646010335\n",
      "Current objective value: 7.444170646010335\n",
      "Current objective value: 7.444170646010335\n",
      "Current objective value: 7.444170646010335\n",
      "Current objective value: 7.444170646010335\n",
      "Current objective value: 7.444170646010335\n",
      "Current objective value: 7.444170646010335\n",
      "Current objective value: 7.002145252919906\n",
      "Current objective value: 7.002145252919906\n",
      "Current objective value: 7.002145252919906\n",
      "Current objective value: 7.002145252919906\n",
      "Current objective value: 7.002145252919906\n",
      "Current objective value: 7.002145252919906\n",
      "Current objective value: 7.002145252919906\n",
      "Current objective value: 7.002145252919906\n",
      "Current objective value: 7.002145252919906\n",
      "Current objective value: 6.562615620910151\n",
      "Current objective value: 6.562615620910151\n",
      "Current objective value: 6.562615620910151\n",
      "Current objective value: 6.562615620910151\n",
      "Current objective value: 6.562615620910151\n",
      "Current objective value: 6.562615620910151\n",
      "Current objective value: 6.562615620910151\n",
      "Current objective value: 6.562615620910151\n",
      "Current objective value: 6.035825817401909\n",
      "Current objective value: 6.035825817401909\n",
      "Current objective value: 6.035825817401909\n",
      "Current objective value: 6.035825817401909\n",
      "Current objective value: 6.035825817401909\n",
      "Current objective value: 6.035825817401909\n",
      "Current objective value: 6.035825817401909\n",
      "Current objective value: 6.035825817401909\n",
      "Current objective value: 6.035825817401909\n",
      "Current objective value: 6.035825817401909\n",
      "Current objective value: 5.620704048699963\n",
      "Current objective value: 5.620704048699963\n",
      "Current objective value: 5.620704048699963\n"
     ]
    },
    {
     "name": "stderr",
     "output_type": "stream",
     "text": [
      "/var/folders/cm/nzkrh8cx5kq00xj9cvd0zy7w0000gn/T/ipykernel_46011/481059101.py:4: RuntimeWarning: Maximum number of function evaluations has been exceeded.\n",
      "  res = minimize(mi_cost_fn, params, method='nelder-mead',\n"
     ]
    }
   ],
   "execution_count": 81
  },
  {
   "metadata": {
    "ExecuteTime": {
     "end_time": "2024-10-05T05:23:46.800423Z",
     "start_time": "2024-10-05T05:22:26.230329Z"
    }
   },
   "cell_type": "code",
   "source": [
    "res = minimize(mi_cost_fn, res.x, method='nelder-mead',\n",
    "               options={'xatol': 1e-30, 'disp': True, 'maxfev': 100}, callback=callback)"
   ],
   "id": "38fe30a6701abf24",
   "outputs": [
    {
     "name": "stdout",
     "output_type": "stream",
     "text": [
      "Current objective value: 0.11256251288167057\n",
      "Current objective value: 0.11256251288167057\n",
      "Current objective value: 0.11256251288167057\n",
      "Current objective value: 0.11256251288167057\n",
      "Current objective value: 0.11256251288167057\n",
      "Current objective value: 0.11256251288167057\n",
      "Current objective value: 0.11256251288167057\n",
      "Current objective value: 0.11256251288167057\n",
      "Current objective value: 0.11256251288167057\n",
      "Current objective value: 0.11256251288167057\n",
      "Current objective value: 0.11256251288167057\n",
      "Current objective value: 0.11256251288167057\n",
      "Current objective value: 0.11256251288167057\n",
      "Current objective value: 0.11256251288167057\n",
      "Current objective value: 0.11256251288167057\n",
      "Current objective value: 0.11256251288167057\n",
      "Current objective value: 0.11256251288167057\n",
      "Current objective value: 0.11256251288167057\n",
      "Current objective value: 0.11243292658994714\n",
      "Current objective value: 0.11243292658994714\n",
      "Current objective value: 0.11170727605011721\n",
      "Current objective value: 0.10939839220396089\n",
      "Current objective value: 0.10939839220396089\n",
      "Current objective value: 0.10939839220396089\n",
      "Current objective value: 0.10939839220396089\n",
      "Current objective value: 0.10939839220396089\n"
     ]
    },
    {
     "ename": "KeyboardInterrupt",
     "evalue": "",
     "output_type": "error",
     "traceback": [
      "\u001B[0;31m---------------------------------------------------------------------------\u001B[0m",
      "\u001B[0;31mKeyboardInterrupt\u001B[0m                         Traceback (most recent call last)",
      "Cell \u001B[0;32mIn[140], line 1\u001B[0m\n\u001B[0;32m----> 1\u001B[0m res \u001B[38;5;241m=\u001B[39m \u001B[43mminimize\u001B[49m\u001B[43m(\u001B[49m\u001B[43mmi_cost_fn\u001B[49m\u001B[43m,\u001B[49m\u001B[43m \u001B[49m\u001B[43mres\u001B[49m\u001B[38;5;241;43m.\u001B[39;49m\u001B[43mx\u001B[49m\u001B[43m,\u001B[49m\u001B[43m \u001B[49m\u001B[43mmethod\u001B[49m\u001B[38;5;241;43m=\u001B[39;49m\u001B[38;5;124;43m'\u001B[39;49m\u001B[38;5;124;43mnelder-mead\u001B[39;49m\u001B[38;5;124;43m'\u001B[39;49m\u001B[43m,\u001B[49m\n\u001B[1;32m      2\u001B[0m \u001B[43m               \u001B[49m\u001B[43moptions\u001B[49m\u001B[38;5;241;43m=\u001B[39;49m\u001B[43m{\u001B[49m\u001B[38;5;124;43m'\u001B[39;49m\u001B[38;5;124;43mxatol\u001B[39;49m\u001B[38;5;124;43m'\u001B[39;49m\u001B[43m:\u001B[49m\u001B[43m \u001B[49m\u001B[38;5;241;43m1e-30\u001B[39;49m\u001B[43m,\u001B[49m\u001B[43m \u001B[49m\u001B[38;5;124;43m'\u001B[39;49m\u001B[38;5;124;43mdisp\u001B[39;49m\u001B[38;5;124;43m'\u001B[39;49m\u001B[43m:\u001B[49m\u001B[43m \u001B[49m\u001B[38;5;28;43;01mTrue\u001B[39;49;00m\u001B[43m,\u001B[49m\u001B[43m \u001B[49m\u001B[38;5;124;43m'\u001B[39;49m\u001B[38;5;124;43mmaxfev\u001B[39;49m\u001B[38;5;124;43m'\u001B[39;49m\u001B[43m:\u001B[49m\u001B[43m \u001B[49m\u001B[38;5;241;43m100\u001B[39;49m\u001B[43m}\u001B[49m\u001B[43m,\u001B[49m\u001B[43m \u001B[49m\u001B[43mcallback\u001B[49m\u001B[38;5;241;43m=\u001B[39;49m\u001B[43mcallback\u001B[49m\u001B[43m)\u001B[49m\n",
      "File \u001B[0;32m~/planted_solutions/planted_solutions/venv/lib/python3.9/site-packages/scipy/optimize/_minimize.py:701\u001B[0m, in \u001B[0;36mminimize\u001B[0;34m(fun, x0, args, method, jac, hess, hessp, bounds, constraints, tol, callback, options)\u001B[0m\n\u001B[1;32m    698\u001B[0m callback \u001B[38;5;241m=\u001B[39m _wrap_callback(callback, meth)\n\u001B[1;32m    700\u001B[0m \u001B[38;5;28;01mif\u001B[39;00m meth \u001B[38;5;241m==\u001B[39m \u001B[38;5;124m'\u001B[39m\u001B[38;5;124mnelder-mead\u001B[39m\u001B[38;5;124m'\u001B[39m:\n\u001B[0;32m--> 701\u001B[0m     res \u001B[38;5;241m=\u001B[39m \u001B[43m_minimize_neldermead\u001B[49m\u001B[43m(\u001B[49m\u001B[43mfun\u001B[49m\u001B[43m,\u001B[49m\u001B[43m \u001B[49m\u001B[43mx0\u001B[49m\u001B[43m,\u001B[49m\u001B[43m \u001B[49m\u001B[43margs\u001B[49m\u001B[43m,\u001B[49m\u001B[43m \u001B[49m\u001B[43mcallback\u001B[49m\u001B[43m,\u001B[49m\u001B[43m \u001B[49m\u001B[43mbounds\u001B[49m\u001B[38;5;241;43m=\u001B[39;49m\u001B[43mbounds\u001B[49m\u001B[43m,\u001B[49m\n\u001B[1;32m    702\u001B[0m \u001B[43m                               \u001B[49m\u001B[38;5;241;43m*\u001B[39;49m\u001B[38;5;241;43m*\u001B[39;49m\u001B[43moptions\u001B[49m\u001B[43m)\u001B[49m\n\u001B[1;32m    703\u001B[0m \u001B[38;5;28;01melif\u001B[39;00m meth \u001B[38;5;241m==\u001B[39m \u001B[38;5;124m'\u001B[39m\u001B[38;5;124mpowell\u001B[39m\u001B[38;5;124m'\u001B[39m:\n\u001B[1;32m    704\u001B[0m     res \u001B[38;5;241m=\u001B[39m _minimize_powell(fun, x0, args, callback, bounds, \u001B[38;5;241m*\u001B[39m\u001B[38;5;241m*\u001B[39moptions)\n",
      "File \u001B[0;32m~/planted_solutions/planted_solutions/venv/lib/python3.9/site-packages/scipy/optimize/_optimize.py:905\u001B[0m, in \u001B[0;36m_minimize_neldermead\u001B[0;34m(func, x0, args, callback, maxiter, maxfev, disp, return_all, initial_simplex, xatol, fatol, adaptive, bounds, **unknown_options)\u001B[0m\n\u001B[1;32m    903\u001B[0m             allvecs\u001B[38;5;241m.\u001B[39mappend(sim[\u001B[38;5;241m0\u001B[39m])\n\u001B[1;32m    904\u001B[0m         intermediate_result \u001B[38;5;241m=\u001B[39m OptimizeResult(x\u001B[38;5;241m=\u001B[39msim[\u001B[38;5;241m0\u001B[39m], fun\u001B[38;5;241m=\u001B[39mfsim[\u001B[38;5;241m0\u001B[39m])\n\u001B[0;32m--> 905\u001B[0m         \u001B[38;5;28;01mif\u001B[39;00m \u001B[43m_call_callback_maybe_halt\u001B[49m\u001B[43m(\u001B[49m\u001B[43mcallback\u001B[49m\u001B[43m,\u001B[49m\u001B[43m \u001B[49m\u001B[43mintermediate_result\u001B[49m\u001B[43m)\u001B[49m:\n\u001B[1;32m    906\u001B[0m             \u001B[38;5;28;01mbreak\u001B[39;00m\n\u001B[1;32m    908\u001B[0m x \u001B[38;5;241m=\u001B[39m sim[\u001B[38;5;241m0\u001B[39m]\n",
      "File \u001B[0;32m~/planted_solutions/planted_solutions/venv/lib/python3.9/site-packages/scipy/_lib/_util.py:849\u001B[0m, in \u001B[0;36m_call_callback_maybe_halt\u001B[0;34m(callback, res)\u001B[0m\n\u001B[1;32m    847\u001B[0m     \u001B[38;5;28;01mreturn\u001B[39;00m \u001B[38;5;28;01mFalse\u001B[39;00m\n\u001B[1;32m    848\u001B[0m \u001B[38;5;28;01mtry\u001B[39;00m:\n\u001B[0;32m--> 849\u001B[0m     \u001B[43mcallback\u001B[49m\u001B[43m(\u001B[49m\u001B[43mres\u001B[49m\u001B[43m)\u001B[49m\n\u001B[1;32m    850\u001B[0m     \u001B[38;5;28;01mreturn\u001B[39;00m \u001B[38;5;28;01mFalse\u001B[39;00m\n\u001B[1;32m    851\u001B[0m \u001B[38;5;28;01mexcept\u001B[39;00m \u001B[38;5;167;01mStopIteration\u001B[39;00m:\n",
      "File \u001B[0;32m~/planted_solutions/planted_solutions/venv/lib/python3.9/site-packages/scipy/optimize/_optimize.py:105\u001B[0m, in \u001B[0;36m_wrap_callback.<locals>.wrapped_callback\u001B[0;34m(res)\u001B[0m\n\u001B[1;32m    104\u001B[0m \u001B[38;5;28;01mdef\u001B[39;00m \u001B[38;5;21mwrapped_callback\u001B[39m(res):\n\u001B[0;32m--> 105\u001B[0m     \u001B[38;5;28;01mreturn\u001B[39;00m \u001B[43mcallback\u001B[49m\u001B[43m(\u001B[49m\u001B[43mnp\u001B[49m\u001B[38;5;241;43m.\u001B[39;49m\u001B[43mcopy\u001B[49m\u001B[43m(\u001B[49m\u001B[43mres\u001B[49m\u001B[38;5;241;43m.\u001B[39;49m\u001B[43mx\u001B[49m\u001B[43m)\u001B[49m\u001B[43m)\u001B[49m\n",
      "Cell \u001B[0;32mIn[80], line 77\u001B[0m, in \u001B[0;36mcallback\u001B[0;34m(xk)\u001B[0m\n\u001B[1;32m     76\u001B[0m \u001B[38;5;28;01mdef\u001B[39;00m \u001B[38;5;21mcallback\u001B[39m(xk):\n\u001B[0;32m---> 77\u001B[0m     \u001B[38;5;28mprint\u001B[39m(\u001B[38;5;124mf\u001B[39m\u001B[38;5;124m\"\u001B[39m\u001B[38;5;124mCurrent objective value: \u001B[39m\u001B[38;5;132;01m{\u001B[39;00mmi_cost_fn(xk)\u001B[38;5;132;01m}\u001B[39;00m\u001B[38;5;124m\"\u001B[39m)\n",
      "Cell \u001B[0;32mIn[80], line 64\u001B[0m, in \u001B[0;36mmi_cost_fn\u001B[0;34m(parameters)\u001B[0m\n\u001B[1;32m     62\u001B[0m dmrg_params \u001B[38;5;241m=\u001B[39m prepare_exact_dmrg_config()\n\u001B[1;32m     63\u001B[0m \u001B[38;5;66;03m### 2, Get the exact ground-state with BD = 100 ###\u001B[39;00m\n\u001B[0;32m---> 64\u001B[0m result \u001B[38;5;241m=\u001B[39m \u001B[43msingle_qchem_dmrg_calc\u001B[49m\u001B[43m(\u001B[49m\u001B[43mone_body_tensor\u001B[49m\u001B[43m,\u001B[49m\u001B[43m \u001B[49m\u001B[43mtwo_body_tensor\u001B[49m\u001B[43m,\u001B[49m\u001B[43m \u001B[49m\u001B[43mdmrg_params\u001B[49m\u001B[43m)\u001B[49m\n\u001B[1;32m     65\u001B[0m mps \u001B[38;5;241m=\u001B[39m result[\u001B[38;5;124m'\u001B[39m\u001B[38;5;124mket_optimized\u001B[39m\u001B[38;5;124m'\u001B[39m]\n\u001B[1;32m     67\u001B[0m \u001B[38;5;66;03m### 3, Get the mutual information matrix elements of the state ###\u001B[39;00m\n",
      "File \u001B[0;32m~/PycharmProjects/croor/dmrghandler/src/dmrghandler/qchem_dmrg_calc.py:407\u001B[0m, in \u001B[0;36msingle_qchem_dmrg_calc\u001B[0;34m(one_body_tensor, two_body_tensor, dmrg_parameters, verbosity)\u001B[0m\n\u001B[1;32m    405\u001B[0m wall_dmrg_optimization_start_time_ns \u001B[38;5;241m=\u001B[39m time\u001B[38;5;241m.\u001B[39mperf_counter_ns()\n\u001B[1;32m    406\u001B[0m cpu_dmrg_optimization_start_time_ns \u001B[38;5;241m=\u001B[39m time\u001B[38;5;241m.\u001B[39mprocess_time_ns()\n\u001B[0;32m--> 407\u001B[0m dmrg_ground_state_energy \u001B[38;5;241m=\u001B[39m \u001B[43mdriver\u001B[49m\u001B[38;5;241;43m.\u001B[39;49m\u001B[43mdmrg\u001B[49m\u001B[43m(\u001B[49m\n\u001B[1;32m    408\u001B[0m \u001B[43m    \u001B[49m\u001B[43mmpo\u001B[49m\u001B[38;5;241;43m=\u001B[39;49m\u001B[43mqchem_hami_mpo\u001B[49m\u001B[43m,\u001B[49m\n\u001B[1;32m    409\u001B[0m \u001B[43m    \u001B[49m\u001B[43mket\u001B[49m\u001B[38;5;241;43m=\u001B[39;49m\u001B[43mket_optimized\u001B[49m\u001B[43m,\u001B[49m\n\u001B[1;32m    410\u001B[0m \u001B[43m    \u001B[49m\u001B[43mn_sweeps\u001B[49m\u001B[38;5;241;43m=\u001B[39;49m\u001B[43mmax_num_sweeps\u001B[49m\u001B[43m,\u001B[49m\n\u001B[1;32m    411\u001B[0m \u001B[43m    \u001B[49m\u001B[43mtol\u001B[49m\u001B[38;5;241;43m=\u001B[39;49m\u001B[43menergy_convergence_threshold\u001B[49m\u001B[43m,\u001B[49m\n\u001B[1;32m    412\u001B[0m \u001B[43m    \u001B[49m\u001B[43mbond_dims\u001B[49m\u001B[38;5;241;43m=\u001B[39;49m\u001B[43msweep_schedule_bond_dims\u001B[49m\u001B[43m,\u001B[49m\n\u001B[1;32m    413\u001B[0m \u001B[43m    \u001B[49m\u001B[43mnoises\u001B[49m\u001B[38;5;241;43m=\u001B[39;49m\u001B[43msweep_schedule_noise\u001B[49m\u001B[43m,\u001B[49m\n\u001B[1;32m    414\u001B[0m \u001B[43m    \u001B[49m\u001B[43mthrds\u001B[49m\u001B[38;5;241;43m=\u001B[39;49m\u001B[43msweep_schedule_davidson_threshold\u001B[49m\u001B[43m,\u001B[49m\n\u001B[1;32m    415\u001B[0m \u001B[43m    \u001B[49m\u001B[43miprint\u001B[49m\u001B[38;5;241;43m=\u001B[39;49m\u001B[43mverbosity\u001B[49m\u001B[43m,\u001B[49m\n\u001B[1;32m    416\u001B[0m \u001B[43m    \u001B[49m\u001B[43mdav_type\u001B[49m\u001B[38;5;241;43m=\u001B[39;49m\u001B[43mdavidson_type\u001B[49m\u001B[43m,\u001B[49m\n\u001B[1;32m    417\u001B[0m \u001B[43m    \u001B[49m\u001B[43mcutoff\u001B[49m\u001B[38;5;241;43m=\u001B[39;49m\u001B[43meigenvalue_cutoff\u001B[49m\u001B[43m,\u001B[49m\n\u001B[1;32m    418\u001B[0m \u001B[43m    \u001B[49m\u001B[43mtwosite_to_onesite\u001B[49m\u001B[38;5;241;43m=\u001B[39;49m\u001B[38;5;28;43;01mNone\u001B[39;49;00m\u001B[43m,\u001B[49m\u001B[43m  \u001B[49m\u001B[38;5;66;43;03m# Don't switch the site type\u001B[39;49;00m\n\u001B[1;32m    419\u001B[0m \u001B[43m    \u001B[49m\u001B[43mdav_max_iter\u001B[49m\u001B[38;5;241;43m=\u001B[39;49m\u001B[43mdavidson_max_iterations\u001B[49m\u001B[43m,\u001B[49m\n\u001B[1;32m    420\u001B[0m \u001B[43m    \u001B[49m\u001B[38;5;66;43;03m# dav_def_max_size=davidson_max_krylov_subspace_size,\u001B[39;49;00m\n\u001B[1;32m    421\u001B[0m \u001B[43m    \u001B[49m\u001B[43mproj_mpss\u001B[49m\u001B[38;5;241;43m=\u001B[39;49m\u001B[38;5;28;43;01mNone\u001B[39;49;00m\u001B[43m,\u001B[49m\u001B[43m  \u001B[49m\u001B[38;5;66;43;03m# For excited states, default is None\u001B[39;49;00m\n\u001B[1;32m    422\u001B[0m \u001B[43m    \u001B[49m\u001B[43mproj_weights\u001B[49m\u001B[38;5;241;43m=\u001B[39;49m\u001B[38;5;28;43;01mNone\u001B[39;49;00m\u001B[43m,\u001B[49m\u001B[43m  \u001B[49m\u001B[38;5;66;43;03m# For excited states, default is None\u001B[39;49;00m\n\u001B[1;32m    423\u001B[0m \u001B[43m    \u001B[49m\u001B[43mstore_wfn_spectra\u001B[49m\u001B[38;5;241;43m=\u001B[39;49m\u001B[38;5;28;43;01mTrue\u001B[39;49;00m\u001B[43m,\u001B[49m\u001B[43m  \u001B[49m\u001B[38;5;66;43;03m# Store MPS singular value spectra in self._sweep_wfn_spectra\u001B[39;49;00m\n\u001B[1;32m    424\u001B[0m \u001B[43m    \u001B[49m\u001B[43mspectra_with_multiplicity\u001B[49m\u001B[38;5;241;43m=\u001B[39;49m\u001B[38;5;28;43;01mFalse\u001B[39;49;00m\u001B[43m,\u001B[49m\u001B[43m  \u001B[49m\u001B[38;5;66;43;03m# Don't multiply singular values with spin multiplicity (for SU2)\u001B[39;49;00m\n\u001B[1;32m    425\u001B[0m \u001B[43m    \u001B[49m\u001B[38;5;66;43;03m# lowmem_noise=lowmem_noise_bool,  # Whether to use a lower memory version of the noise\u001B[39;49;00m\n\u001B[1;32m    426\u001B[0m \u001B[43m    \u001B[49m\u001B[38;5;66;43;03m# sweep_start=sweep_start,\u001B[39;49;00m\n\u001B[1;32m    427\u001B[0m \u001B[43m    \u001B[49m\u001B[38;5;66;43;03m# forward=initial_sweep_direction,\u001B[39;49;00m\n\u001B[1;32m    428\u001B[0m \u001B[43m\u001B[49m\u001B[43m)\u001B[49m\n\u001B[1;32m    429\u001B[0m wall_dmrg_optimization_end_time_ns \u001B[38;5;241m=\u001B[39m time\u001B[38;5;241m.\u001B[39mperf_counter_ns()\n\u001B[1;32m    430\u001B[0m cpu_dmrg_optimization_end_time_ns \u001B[38;5;241m=\u001B[39m time\u001B[38;5;241m.\u001B[39mprocess_time_ns()\n",
      "File \u001B[0;32m~/planted_solutions/planted_solutions/venv/lib/python3.9/site-packages/pyblock2/driver/core.py:2834\u001B[0m, in \u001B[0;36mDMRGDriver.dmrg\u001B[0;34m(self, mpo, ket, n_sweeps, tol, bond_dims, noises, thrds, iprint, dav_type, cutoff, twosite_to_onesite, dav_max_iter, proj_mpss, proj_weights, store_wfn_spectra, spectra_with_multiplicity)\u001B[0m\n\u001B[1;32m   2832\u001B[0m \u001B[38;5;28;01mif\u001B[39;00m n_sweeps \u001B[38;5;241m==\u001B[39m \u001B[38;5;241m-\u001B[39m\u001B[38;5;241m1\u001B[39m:\n\u001B[1;32m   2833\u001B[0m     \u001B[38;5;28;01mreturn\u001B[39;00m \u001B[38;5;28;01mNone\u001B[39;00m\n\u001B[0;32m-> 2834\u001B[0m \u001B[43mme\u001B[49m\u001B[38;5;241;43m.\u001B[39;49m\u001B[43minit_environments\u001B[49m\u001B[43m(\u001B[49m\u001B[43miprint\u001B[49m\u001B[43m \u001B[49m\u001B[38;5;241;43m>\u001B[39;49m\u001B[38;5;241;43m=\u001B[39;49m\u001B[43m \u001B[49m\u001B[38;5;241;43m2\u001B[39;49m\u001B[43m)\u001B[49m\n\u001B[1;32m   2835\u001B[0m \u001B[38;5;28;01mif\u001B[39;00m twosite_to_onesite \u001B[38;5;129;01mis\u001B[39;00m \u001B[38;5;28;01mNone\u001B[39;00m:\n\u001B[1;32m   2836\u001B[0m     ener \u001B[38;5;241m=\u001B[39m dmrg\u001B[38;5;241m.\u001B[39msolve(n_sweeps, ket\u001B[38;5;241m.\u001B[39mcenter \u001B[38;5;241m==\u001B[39m \u001B[38;5;241m0\u001B[39m, tol)\n",
      "\u001B[0;31mKeyboardInterrupt\u001B[0m: "
     ]
    }
   ],
   "execution_count": 140
  },
  {
   "metadata": {
    "ExecuteTime": {
     "end_time": "2024-10-05T05:21:34.576494Z",
     "start_time": "2024-10-05T05:21:34.564810Z"
    }
   },
   "cell_type": "code",
   "source": "res",
   "id": "e76f72528c96dbd1",
   "outputs": [
    {
     "data": {
      "text/plain": [
       "       message: Maximum number of function evaluations has been exceeded.\n",
       "       success: False\n",
       "        status: 1\n",
       "           fun: 0.11414826887317026\n",
       "             x: [ 4.380e-01  3.555e-01 ...  6.589e-02  2.039e-01]\n",
       "           nit: 63\n",
       "          nfev: 100\n",
       " final_simplex: (array([[ 4.380e-01,  3.555e-01, ...,  6.589e-02,\n",
       "                         2.039e-01],\n",
       "                       [ 4.444e-01,  3.551e-01, ...,  6.566e-02,\n",
       "                         2.056e-01],\n",
       "                       ...,\n",
       "                       [ 4.621e-01,  3.561e-01, ...,  6.579e-02,\n",
       "                         2.039e-01],\n",
       "                       [ 4.445e-01,  3.623e-01, ...,  6.563e-02,\n",
       "                         2.060e-01]]), array([ 1.141e-01,  1.156e-01, ...,  1.239e-01,  1.244e-01]))"
      ]
     },
     "execution_count": 131,
     "metadata": {},
     "output_type": "execute_result"
    }
   ],
   "execution_count": 131
  },
  {
   "metadata": {},
   "cell_type": "markdown",
   "source": "## Get the respective outputs from the optimization result",
   "id": "46402de219445977"
  },
  {
   "metadata": {
    "ExecuteTime": {
     "end_time": "2024-10-05T05:21:35.973746Z",
     "start_time": "2024-10-05T05:21:35.951369Z"
    }
   },
   "cell_type": "code",
   "source": [
    "def get_optimized_tensor(parameters):\n",
    "    \n",
    "    U = construct_orthogonal(ncas, parameters)\n",
    "    p = np.einsum_path('ak,bl,cm,dn,klmn->abcd', U, U, U, U, combined_tbt_optimizing.copy())[0]\n",
    "    rotated_tbt = np.einsum('ak,bl,cm,dn,klmn->abcd', U, U, U, U, combined_tbt_optimizing.copy(), optimize = p)\n",
    "    \n",
    "    obt_dummy = np.zeros((ncas, ncas))\n",
    "    one_body_tensor, two_body_tensor = chemist_to_physicist(obt_dummy, rotated_tbt)\n",
    "    return one_body_tensor, two_body_tensor\n",
    "\n",
    "\n",
    "def original_minfo(original_tbt):\n",
    "    one_body_tensor, two_body_tensor = chemist_to_physicist(obt_dummy, original_tbt)\n",
    "    \n",
    "    dmrg_params = prepare_exact_dmrg_config()\n",
    "    \n",
    "    ### 2, Get the approximate ground-state with BD = 2 ###\n",
    "    result = single_qchem_dmrg_calc(one_body_tensor, two_body_tensor, dmrg_params)\n",
    "    mps = result['ket_optimized']\n",
    "    \n",
    "    ### 3, Get the mutual information matrix elements of the state ###\n",
    "    minfo = mutual_info(mps)\n",
    "    return minfo\n",
    "    print(minfo)\n",
    "\n",
    "def get_optimized_minfo(parameters):\n",
    "    U = construct_orthogonal(ncas, parameters)\n",
    "    p = np.einsum_path('ak,bl,cm,dn,klmn->abcd', U, U, U, U, combined_tbt_optimizing.copy())[0]\n",
    "    rotated_tbt = np.einsum('ak,bl,cm,dn,klmn->abcd', U, U, U, U, combined_tbt_optimizing.copy(), optimize = p)\n",
    "    \n",
    "    one_body_tensor, two_body_tensor = chemist_to_physicist(obt_dummy, rotated_tbt)\n",
    "    \n",
    "    dmrg_params = prepare_exact_dmrg_config()\n",
    "    \n",
    "    ### 2, Get the approximate ground-state with BD = 2 ###\n",
    "    result = single_qchem_dmrg_calc(one_body_tensor, two_body_tensor, dmrg_params)\n",
    "    mps = result['ket_optimized']\n",
    "    \n",
    "    ### 3, Get the mutual information matrix elements of the state ###\n",
    "    minfo = mutual_info(mps)\n",
    "    return minfo\n",
    "\n",
    "def get_objective_value(minfo):\n",
    "    n_orb = minfo.shape[0]\n",
    "    total = 0\n",
    "    for i in range(n_orb//2, n_orb):\n",
    "        for j in range(n_orb//2, n_orb):\n",
    "            total += abs(i - j) ** 2 * minfo[i, j]\n",
    "    \n",
    "    return total"
   ],
   "id": "4c8d3b8513f0f50d",
   "outputs": [],
   "execution_count": 132
  },
  {
   "metadata": {
    "ExecuteTime": {
     "end_time": "2024-10-05T05:21:36.669817Z",
     "start_time": "2024-10-05T05:21:36.664095Z"
    }
   },
   "cell_type": "code",
   "source": "import matplotlib.pyplot as plt",
   "id": "cab06cfd397578ca",
   "outputs": [],
   "execution_count": 133
  },
  {
   "metadata": {
    "ExecuteTime": {
     "end_time": "2024-10-05T05:21:38.384098Z",
     "start_time": "2024-10-05T05:21:37.157545Z"
    }
   },
   "cell_type": "code",
   "source": [
    "minfo_original = original_minfo(combined_tbt)\n",
    "print(minfo_original)\n",
    "plt.matshow(minfo_original, cmap='ocean_r')\n",
    "plt.gcf().set_dpi(150)\n",
    "plt.show()"
   ],
   "id": "1f9e46a4f32b5936",
   "outputs": [
    {
     "name": "stdout",
     "output_type": "stream",
     "text": [
      "[[0.00000000e+00 9.02124933e-06 2.64396861e-06 4.15870769e-06\n",
      "  2.04405498e-06 5.19715558e-06 4.81190014e-06]\n",
      " [9.02124933e-06 0.00000000e+00 7.43059093e-03 1.01923421e-02\n",
      "  6.67595713e-04 1.66369417e-02 6.63999932e-03]\n",
      " [2.64396861e-06 7.43059093e-03 0.00000000e+00 3.03248827e-02\n",
      "  6.06478269e-04 4.37254911e-02 7.90233994e-02]\n",
      " [4.15870769e-06 1.01923421e-02 3.03248827e-02 0.00000000e+00\n",
      "  9.70742662e-04 4.70586847e-02 3.45660906e-02]\n",
      " [2.04405498e-06 6.67595713e-04 6.06478269e-04 9.70742662e-04\n",
      "  0.00000000e+00 4.42279494e-03 5.94959322e-04]\n",
      " [5.19715558e-06 1.66369417e-02 4.37254911e-02 4.70586847e-02\n",
      "  4.42279494e-03 0.00000000e+00 4.32413626e-02]\n",
      " [4.81190014e-06 6.63999932e-03 7.90233994e-02 3.45660906e-02\n",
      "  5.94959322e-04 4.32413626e-02 0.00000000e+00]]\n"
     ]
    },
    {
     "data": {
      "text/plain": [
       "<Figure size 720x720 with 1 Axes>"
      ],
      "image/png": "[encoded data removed]"
     },
     "metadata": {},
     "output_type": "display_data"
    }
   ],
   "execution_count": 134
  },
  {
   "metadata": {
    "ExecuteTime": {
     "end_time": "2024-10-05T05:21:40.432475Z",
     "start_time": "2024-10-05T05:21:39.110362Z"
    }
   },
   "cell_type": "code",
   "source": [
    "minfo_optimized = get_optimized_minfo(res.x)\n",
    "print(minfo_optimized)\n",
    "plt.matshow(minfo_optimized, cmap='ocean_r')\n",
    "plt.gcf().set_dpi(150)\n",
    "plt.show()"
   ],
   "id": "59eede2451a18cae",
   "outputs": [
    {
     "name": "stdout",
     "output_type": "stream",
     "text": [
      "[[0.00000000e+00 2.48909290e-01 6.42892643e-02 4.58214896e-01\n",
      "  1.04489941e-02 1.02060856e-01 1.90899904e-04]\n",
      " [2.48909290e-01 0.00000000e+00 2.95493868e-02 3.58524070e-01\n",
      "  5.65747625e-03 2.00933895e-01 6.73347177e-04]\n",
      " [6.42892643e-02 2.95493868e-02 0.00000000e+00 3.84098387e-01\n",
      "  4.44196294e-03 5.13521517e-01 4.19170695e-04]\n",
      " [4.58214896e-01 3.58524070e-01 3.84098387e-01 0.00000000e+00\n",
      "  2.43586419e-02 3.09497373e-03 8.65322557e-04]\n",
      " [1.04489941e-02 5.65747625e-03 4.44196294e-03 2.43586419e-02\n",
      "  0.00000000e+00 1.61248196e-03 2.48417694e-03]\n",
      " [1.02060856e-01 2.00933895e-01 5.13521517e-01 3.09497373e-03\n",
      "  1.61248196e-03 0.00000000e+00 9.98504871e-04]\n",
      " [1.90899904e-04 6.73347177e-04 4.19170695e-04 8.65322557e-04\n",
      "  2.48417694e-03 9.98504871e-04 0.00000000e+00]]\n"
     ]
    },
    {
     "data": {
      "text/plain": [
       "<Figure size 720x720 with 1 Axes>"
      ],
      "image/png": "[encoded data removed]"
     },
     "metadata": {},
     "output_type": "display_data"
    }
   ],
   "execution_count": 135
  },
  {
   "metadata": {
    "ExecuteTime": {
     "end_time": "2024-10-05T05:21:47.111310Z",
     "start_time": "2024-10-05T05:21:47.100176Z"
    }
   },
   "cell_type": "code",
   "source": [
    "obj1 = get_objective_value(minfo_original)\n",
    "obj2 = get_objective_value(minfo_optimized)\n",
    "print(obj1, obj2)"
   ],
   "id": "3ec8cba139b8afc7",
   "outputs": [
    {
     "name": "stdout",
     "output_type": "stream",
     "text": [
      "1.1006885833197486 0.11414826887317026\n"
     ]
    }
   ],
   "execution_count": 136
  },
  {
   "metadata": {
    "ExecuteTime": {
     "end_time": "2024-10-05T05:21:47.764248Z",
     "start_time": "2024-10-05T05:21:47.738370Z"
    }
   },
   "cell_type": "code",
   "source": "obt, tbt = get_optimized_tensor(res.x)",
   "id": "1b4729ac980f63cb",
   "outputs": [],
   "execution_count": 137
  },
  {
   "metadata": {
    "ExecuteTime": {
     "end_time": "2024-10-05T05:21:48.279005Z",
     "start_time": "2024-10-05T05:21:48.263760Z"
    }
   },
   "cell_type": "code",
   "source": "print(obt)",
   "id": "412c118e205a4ad4",
   "outputs": [
    {
     "name": "stdout",
     "output_type": "stream",
     "text": [
      "[[-0.21390949 -0.09697554  0.07120901  0.15569706  0.14594788  0.05952647\n",
      "  -0.19577271]\n",
      " [-0.09697554 -0.26892752  0.03031182  0.11453145  0.13781381  0.13792509\n",
      "  -0.18565889]\n",
      " [ 0.07120901  0.03031182 -0.17277297  0.00824337 -0.0020634  -0.00876591\n",
      "   0.03127259]\n",
      " [ 0.15569706  0.11453145  0.00824337 -0.25954198 -0.08155729 -0.10352254\n",
      "   0.22656222]\n",
      " [ 0.14594788  0.13781381 -0.0020634  -0.08155729 -0.29350096 -0.06914181\n",
      "   0.24227593]\n",
      " [ 0.05952647  0.13792509 -0.00876591 -0.10352254 -0.06914181 -0.12155864\n",
      "   0.13233174]\n",
      " [-0.19577271 -0.18565889  0.03127259  0.22656222  0.24227593  0.13233174\n",
      "  -0.53794489]]\n"
     ]
    }
   ],
   "execution_count": 138
  },
  {
   "metadata": {
    "ExecuteTime": {
     "end_time": "2024-10-05T05:21:49.262354Z",
     "start_time": "2024-10-05T05:21:49.248360Z"
    }
   },
   "cell_type": "code",
   "source": [
    "label = \"_optimized\"\n",
    "filename = \"fcidump.H2O_10\" + f\"{label}\"\n",
    "pyscf.tools.fcidump.from_integrals(\n",
    "    \"fcidump_output\"/Path(filename),\n",
    "    obt,\n",
    "    tbt,\n",
    "    nmo=obt.shape[0],\n",
    "    nelec=n_elec,\n",
    "    nuc=ecore,\n",
    "    ms=spin,\n",
    "    orbsym=None,\n",
    "    tol=1E-8,\n",
    "    float_format=' %.16g',\n",
    ")"
   ],
   "id": "5f99ac0379eecbe7",
   "outputs": [],
   "execution_count": 139
  },
  {
   "metadata": {},
   "cell_type": "code",
   "outputs": [],
   "execution_count": null,
   "source": "\n",
   "id": "5f2543069483d965"
  }
 ],
 "metadata": {
  "kernelspec": {
   "display_name": "Python 3",
   "language": "python",
   "name": "python3"
  },
  "language_info": {
   "codemirror_mode": {
    "name": "ipython",
    "version": 2
   },
   "file_extension": ".py",
   "mimetype": "text/x-python",
   "name": "python",
   "nbconvert_exporter": "python",
   "pygments_lexer": "ipython2",
   "version": "2.7.6"
  }
 },
 "nbformat": 4,
 "nbformat_minor": 5
}
